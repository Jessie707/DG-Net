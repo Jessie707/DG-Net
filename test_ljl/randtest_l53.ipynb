{
 "cells": [
  {
   "cell_type": "markdown",
   "metadata": {},
   "source": [
    "random.permutation # 将给定序列乱序  \n",
    "random.permutation[a:b] # 先将给定序列乱序，再从中截取a:b的序列（a和b为截取索引）"
   ]
  },
  {
   "cell_type": "code",
   "execution_count": 13,
   "metadata": {},
   "outputs": [
    {
     "name": "stdout",
     "output_type": "stream",
     "text": [
      "[8 5 0 2 1 9 7 3 6 4]\n",
      "[8 5 0]\n"
     ]
    }
   ],
   "source": [
    "import numpy.random as random\n",
    "random.seed(7)\n",
    "rand_a = random.permutation([0,1,2,3,4,5,6,7,8,9])\n",
    "rand_aa = rand_a[0:3]\n",
    "\n",
    "print(rand_a)\n",
    "print(rand_aa)"
   ]
  },
  {
   "cell_type": "code",
   "execution_count": 11,
   "metadata": {},
   "outputs": [
    {
     "name": "stdout",
     "output_type": "stream",
     "text": [
      "tensor([0, 0, 0, 0, 0, 0, 0, 0, 0, 0], dtype=torch.int32)\n",
      "[8 5 7 3 2 4 1]\n",
      "8\n",
      "tensor([0, 0], dtype=torch.int32)\n",
      "tensor([0, 0, 0, 0, 0, 0, 0, 0, 1, 1], dtype=torch.int32)\n",
      "tensor([0, 1, 1, 1, 1, 1, 0, 1, 1, 0], dtype=torch.int32)\n"
     ]
    }
   ],
   "source": [
    "import torch\n",
    "import numpy as np\n",
    "cmc = torch.IntTensor(10).zero_()\n",
    "print(cmc)\n",
    "rows_good = np.array([8,5,7,3,2,4,1])\n",
    "print(rows_good)\n",
    "t1 = rows_good[0]\n",
    "print(t1)\n",
    "t2 = cmc[rows_good[0]:]\n",
    "print(t2)\n",
    "cmc[rows_good[0]:] = 1\n",
    "print(cmc)\n",
    "cmc2 = torch.IntTensor(10).zero_()\n",
    "cmc2[rows_good[0:]] = 1\n",
    "print(cmc2)"
   ]
  }
 ],
 "metadata": {
  "interpreter": {
   "hash": "8b8d1765dd0f22e568fe3f3c819904aafd8650150fd703d4afc063d8916b013d"
  },
  "kernelspec": {
   "display_name": "Python 3.9.5 ('pytorch')",
   "language": "python",
   "name": "python3"
  },
  "language_info": {
   "codemirror_mode": {
    "name": "ipython",
    "version": 3
   },
   "file_extension": ".py",
   "mimetype": "text/x-python",
   "name": "python",
   "nbconvert_exporter": "python",
   "pygments_lexer": "ipython3",
   "version": "3.9.5"
  },
  "orig_nbformat": 4
 },
 "nbformat": 4,
 "nbformat_minor": 2
}
